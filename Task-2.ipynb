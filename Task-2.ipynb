{
 "cells": [
  {
   "cell_type": "code",
   "execution_count": 22,
   "metadata": {},
   "outputs": [
    {
     "name": "stdout",
     "output_type": "stream",
     "text": [
      "21\n",
      "93\n"
     ]
    }
   ],
   "source": [
    "list = [-10,21,-4,-45,-66,93]\n",
    "num = 0   \n",
    "while(num<len(list1)):\n",
    "    if list1[num] >= 0:\n",
    "        print(list1[num])\n",
    "    num += 1"
   ]
  },
  {
   "cell_type": "code",
   "execution_count": null,
   "metadata": {},
   "outputs": [],
   "source": []
  }
 ],
 "metadata": {
  "language_info": {
   "name": "python"
  }
 },
 "nbformat": 4,
 "nbformat_minor": 2
}
